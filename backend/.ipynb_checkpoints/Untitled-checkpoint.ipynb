{
 "cells": [
  {
   "cell_type": "code",
   "execution_count": null,
   "id": "a004332c",
   "metadata": {},
   "outputs": [
    {
     "name": "stdout",
     "output_type": "stream",
     "text": [
      " * Serving Flask app '__main__'\n",
      " * Debug mode: off\n"
     ]
    },
    {
     "name": "stderr",
     "output_type": "stream",
     "text": [
      "WARNING: This is a development server. Do not use it in a production deployment. Use a production WSGI server instead.\n",
      " * Running on http://127.0.0.1:5000\n",
      "Press CTRL+C to quit\n",
      "[2024-08-03 23:29:50,538] ERROR in app: Exception on /places [GET]\n",
      "Traceback (most recent call last):\n",
      "  File \"C:\\Users\\rohit\\anaconda3\\lib\\site-packages\\flask\\app.py\", line 1473, in wsgi_app\n",
      "    response = self.full_dispatch_request()\n",
      "  File \"C:\\Users\\rohit\\anaconda3\\lib\\site-packages\\flask\\app.py\", line 882, in full_dispatch_request\n",
      "    rv = self.handle_user_exception(e)\n",
      "  File \"C:\\Users\\rohit\\anaconda3\\lib\\site-packages\\flask\\app.py\", line 880, in full_dispatch_request\n",
      "    rv = self.dispatch_request()\n",
      "  File \"C:\\Users\\rohit\\anaconda3\\lib\\site-packages\\flask\\app.py\", line 865, in dispatch_request\n",
      "    return self.ensure_sync(self.view_functions[rule.endpoint])(**view_args)  # type: ignore[no-any-return]\n",
      "  File \"C:\\Users\\rohit\\AppData\\Local\\Temp/ipykernel_15848/1233683986.py\", line 23, in places\n",
      "    data = get_places()\n",
      "  File \"C:\\Users\\rohit\\AppData\\Local\\Temp/ipykernel_15848/1233683986.py\", line 13, in get_places\n",
      "    places.append({\n",
      "AttributeError: 'function' object has no attribute 'append'\n",
      "127.0.0.1 - - [03/Aug/2024 23:29:50] \"GET /places HTTP/1.1\" 500 -\n"
     ]
    }
   ],
   "source": [
    "# app.py\n",
    "\n",
    "from flask import Flask, jsonify\n",
    "import csv\n",
    "\n",
    "app = Flask(__name__)\n",
    "\n",
    "def get_places():\n",
    "    places=[]\n",
    "    file_path = '../data/places.csv'\n",
    "    with open(file_path, newline='', encoding='utf-8-sig') as csvfile:\n",
    "        reader = csv.DictReader(csvfile)\n",
    "        for row in reader:\n",
    "            places.append({\n",
    "                'town': row['town'],\n",
    "                'state': row['state'],\n",
    "                'latitude': float(row['latitude']),\n",
    "                'longitude': float(row['longitude'])\n",
    "            })\n",
    "    return places\n",
    "\n",
    "@app.route('/places')\n",
    "def places():\n",
    "    data = get_places()\n",
    "    return jsonify(data)\n",
    "\n",
    "if __name__ == '__main__':\n",
    "    app.run(debug=False, use_reloader=False)"
   ]
  },
  {
   "cell_type": "code",
   "execution_count": 18,
   "id": "11c2efe0",
   "metadata": {},
   "outputs": [
    {
     "ename": "FileNotFoundError",
     "evalue": "[Errno 2] No such file or directory: 'places.csv'",
     "output_type": "error",
     "traceback": [
      "\u001b[1;31m---------------------------------------------------------------------------\u001b[0m",
      "\u001b[1;31mFileNotFoundError\u001b[0m                         Traceback (most recent call last)",
      "\u001b[1;32m~\\AppData\\Local\\Temp/ipykernel_23932/4074035851.py\u001b[0m in \u001b[0;36m<module>\u001b[1;34m\u001b[0m\n\u001b[1;32m----> 1\u001b[1;33m \u001b[1;32mwith\u001b[0m \u001b[0mopen\u001b[0m\u001b[1;33m(\u001b[0m\u001b[1;34m'places.csv'\u001b[0m\u001b[1;33m,\u001b[0m \u001b[0mnewline\u001b[0m\u001b[1;33m=\u001b[0m\u001b[1;34m''\u001b[0m\u001b[1;33m)\u001b[0m \u001b[1;32mas\u001b[0m \u001b[0mcsvfile\u001b[0m\u001b[1;33m:\u001b[0m\u001b[1;33m\u001b[0m\u001b[1;33m\u001b[0m\u001b[0m\n\u001b[0m\u001b[0;32m      2\u001b[0m         \u001b[0mreader\u001b[0m \u001b[1;33m=\u001b[0m \u001b[0mcsv\u001b[0m\u001b[1;33m.\u001b[0m\u001b[0mDictReader\u001b[0m\u001b[1;33m(\u001b[0m\u001b[0mcsvfile\u001b[0m\u001b[1;33m)\u001b[0m\u001b[1;33m\u001b[0m\u001b[1;33m\u001b[0m\u001b[0m\n",
      "\u001b[1;31mFileNotFoundError\u001b[0m: [Errno 2] No such file or directory: 'places.csv'"
     ]
    }
   ],
   "source": [
    "with open('places.csv', newline='') as csvfile:\n",
    "        reader = csv.DictReader(csvfile)"
   ]
  },
  {
   "cell_type": "code",
   "execution_count": 9,
   "id": "e077a9ba",
   "metadata": {},
   "outputs": [
    {
     "name": "stdout",
     "output_type": "stream",
     "text": [
      "{'town': 'Kolkata', 'state': 'West Bengal', 'latitude': '22.57339112', 'longitude': '88.35007427'}\n",
      "{'town': 'Bengaluru', 'state': 'Karnataka', 'latitude': '12.98457014', 'longitude': '77.59375383'}\n"
     ]
    }
   ],
   "source": [
    "places = []\n",
    "file_path = '../data/places.csv'\n",
    "with open(file_path, newline='', encoding='utf-8-sig') as csvfile:\n",
    "        reader = csv.DictReader(csvfile)\n",
    "        for row in reader:\n",
    "            print(row)\n",
    "            places.append({\n",
    "                'town': row['town'],\n",
    "                'state': row['state'],\n",
    "                'latitude': float(row['latitude']),\n",
    "                'longitude': float(row['longitude'])\n",
    "            })"
   ]
  },
  {
   "cell_type": "code",
   "execution_count": 1,
   "id": "98025689",
   "metadata": {},
   "outputs": [
    {
     "name": "stdout",
     "output_type": "stream",
     "text": [
      " Volume in drive C is OS\n",
      " Volume Serial Number is F6A5-FD0E\n",
      "\n",
      " Directory of C:\\Users\\rohit\\Documents\\Project\\Visited-Places\\backend\n",
      "\n",
      "03-08-2024  23:25    <DIR>          .\n",
      "03-08-2024  23:06    <DIR>          ..\n",
      "03-08-2024  23:05    <DIR>          .ipynb_checkpoints\n",
      "03-08-2024  23:08             8,507 places.csv.xlsx\n",
      "03-08-2024  23:25             5,092 Untitled.ipynb\n",
      "               2 File(s)         13,599 bytes\n",
      "               3 Dir(s)  40,718,680,064 bytes free\n"
     ]
    }
   ],
   "source": [
    "ls"
   ]
  },
  {
   "cell_type": "code",
   "execution_count": null,
   "id": "8cd327d9",
   "metadata": {},
   "outputs": [],
   "source": []
  }
 ],
 "metadata": {
  "kernelspec": {
   "display_name": "Python 3 (ipykernel)",
   "language": "python",
   "name": "python3"
  },
  "language_info": {
   "codemirror_mode": {
    "name": "ipython",
    "version": 3
   },
   "file_extension": ".py",
   "mimetype": "text/x-python",
   "name": "python",
   "nbconvert_exporter": "python",
   "pygments_lexer": "ipython3",
   "version": "3.9.7"
  }
 },
 "nbformat": 4,
 "nbformat_minor": 5
}
