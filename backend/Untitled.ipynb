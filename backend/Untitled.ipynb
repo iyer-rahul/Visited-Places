{
 "cells": [
  {
   "cell_type": "code",
   "execution_count": null,
   "id": "890c86e2",
   "metadata": {},
   "outputs": [
    {
     "name": "stdout",
     "output_type": "stream",
     "text": [
      " * Serving Flask app '__main__'\n",
      " * Debug mode: off\n"
     ]
    },
    {
     "name": "stderr",
     "output_type": "stream",
     "text": [
      "WARNING: This is a development server. Do not use it in a production deployment. Use a production WSGI server instead.\n",
      " * Running on http://127.0.0.1:5000\n",
      "Press CTRL+C to quit\n",
      "127.0.0.1 - - [03/Aug/2024 23:30:12] \"GET /places HTTP/1.1\" 200 -\n",
      "127.0.0.1 - - [03/Aug/2024 23:30:49] \"GET /api/places HTTP/1.1\" 404 -\n",
      "127.0.0.1 - - [03/Aug/2024 23:30:55] \"GET /api/places HTTP/1.1\" 404 -\n",
      "127.0.0.1 - - [03/Aug/2024 23:30:55] \"GET /api/places HTTP/1.1\" 404 -\n",
      "127.0.0.1 - - [03/Aug/2024 23:31:11] \"GET /api/places HTTP/1.1\" 404 -\n",
      "127.0.0.1 - - [03/Aug/2024 23:31:11] \"GET /api/places HTTP/1.1\" 404 -\n",
      "127.0.0.1 - - [03/Aug/2024 23:31:20] \"GET /places HTTP/1.1\" 200 -\n",
      "127.0.0.1 - - [03/Aug/2024 23:31:22] \"GET /places HTTP/1.1\" 200 -\n",
      "127.0.0.1 - - [03/Aug/2024 23:31:22] \"GET /places HTTP/1.1\" 200 -\n",
      "127.0.0.1 - - [03/Aug/2024 23:37:02] \"GET /path/to/places.csv HTTP/1.1\" 404 -\n",
      "127.0.0.1 - - [03/Aug/2024 23:37:02] \"GET /path/to/places.csv HTTP/1.1\" 404 -\n",
      "127.0.0.1 - - [03/Aug/2024 23:38:24] \"GET /places HTTP/1.1\" 200 -\n",
      "127.0.0.1 - - [03/Aug/2024 23:38:24] \"GET /path/to/custom-icon.png HTTP/1.1\" 404 -\n",
      "127.0.0.1 - - [03/Aug/2024 23:38:49] \"GET /places HTTP/1.1\" 200 -\n",
      "127.0.0.1 - - [03/Aug/2024 23:38:49] \"GET /path/to/custom-icon.png HTTP/1.1\" 404 -\n",
      "127.0.0.1 - - [03/Aug/2024 23:39:43] \"GET /places HTTP/1.1\" 200 -\n",
      "127.0.0.1 - - [03/Aug/2024 23:39:43] \"GET /path/to/custom-icon.png HTTP/1.1\" 404 -\n",
      "127.0.0.1 - - [03/Aug/2024 23:39:45] \"GET /places HTTP/1.1\" 200 -\n",
      "127.0.0.1 - - [03/Aug/2024 23:39:45] \"GET /places HTTP/1.1\" 200 -\n",
      "127.0.0.1 - - [03/Aug/2024 23:39:45] \"GET /path/to/custom-icon.png HTTP/1.1\" 404 -\n",
      "127.0.0.1 - - [03/Aug/2024 23:39:53] \"GET /places HTTP/1.1\" 200 -\n",
      "127.0.0.1 - - [03/Aug/2024 23:39:53] \"GET /path/to/custom-icon.png HTTP/1.1\" 404 -\n",
      "127.0.0.1 - - [03/Aug/2024 23:39:55] \"GET /places HTTP/1.1\" 200 -\n",
      "127.0.0.1 - - [03/Aug/2024 23:39:55] \"GET /places HTTP/1.1\" 200 -\n",
      "127.0.0.1 - - [03/Aug/2024 23:39:55] \"GET /path/to/custom-icon.png HTTP/1.1\" 404 -\n",
      "127.0.0.1 - - [03/Aug/2024 23:39:59] \"GET /places HTTP/1.1\" 200 -\n",
      "127.0.0.1 - - [03/Aug/2024 23:39:59] \"GET /path/to/custom-icon.png HTTP/1.1\" 404 -\n",
      "127.0.0.1 - - [03/Aug/2024 23:40:00] \"GET /places HTTP/1.1\" 200 -\n",
      "127.0.0.1 - - [03/Aug/2024 23:40:00] \"GET /places HTTP/1.1\" 200 -\n",
      "127.0.0.1 - - [03/Aug/2024 23:40:01] \"GET /path/to/custom-icon.png HTTP/1.1\" 404 -\n",
      "127.0.0.1 - - [03/Aug/2024 23:40:04] \"GET /places HTTP/1.1\" 200 -\n",
      "127.0.0.1 - - [03/Aug/2024 23:40:04] \"GET /path/to/custom-icon.png HTTP/1.1\" 404 -\n",
      "127.0.0.1 - - [03/Aug/2024 23:40:06] \"GET /places HTTP/1.1\" 200 -\n",
      "127.0.0.1 - - [03/Aug/2024 23:40:06] \"GET /places HTTP/1.1\" 200 -\n",
      "127.0.0.1 - - [03/Aug/2024 23:40:06] \"GET /path/to/custom-icon.png HTTP/1.1\" 404 -\n",
      "127.0.0.1 - - [03/Aug/2024 23:43:07] \"GET /places HTTP/1.1\" 200 -\n",
      "127.0.0.1 - - [03/Aug/2024 23:43:07] \"GET /places HTTP/1.1\" 200 -\n",
      "127.0.0.1 - - [03/Aug/2024 23:43:07] \"GET /path/to/custom-icon.png HTTP/1.1\" 404 -\n",
      "127.0.0.1 - - [03/Aug/2024 23:43:42] \"GET /public/marker.png HTTP/1.1\" 404 -\n",
      "127.0.0.1 - - [03/Aug/2024 23:43:42] \"GET /places HTTP/1.1\" 200 -\n",
      "127.0.0.1 - - [03/Aug/2024 23:43:42] \"GET /public/marker.png HTTP/1.1\" 404 -\n",
      "127.0.0.1 - - [03/Aug/2024 23:43:46] \"GET /places HTTP/1.1\" 200 -\n",
      "127.0.0.1 - - [03/Aug/2024 23:43:46] \"GET /places HTTP/1.1\" 200 -\n",
      "127.0.0.1 - - [03/Aug/2024 23:43:46] \"GET /public/marker.png HTTP/1.1\" 404 -\n",
      "127.0.0.1 - - [03/Aug/2024 23:45:21] \"GET /markers/marker.png HTTP/1.1\" 404 -\n",
      "127.0.0.1 - - [03/Aug/2024 23:45:21] \"GET /places HTTP/1.1\" 200 -\n",
      "127.0.0.1 - - [03/Aug/2024 23:45:21] \"GET /markers/marker.png HTTP/1.1\" 404 -\n",
      "127.0.0.1 - - [03/Aug/2024 23:45:26] \"GET /places HTTP/1.1\" 200 -\n",
      "127.0.0.1 - - [03/Aug/2024 23:45:31] \"GET /places HTTP/1.1\" 200 -\n",
      "127.0.0.1 - - [03/Aug/2024 23:45:31] \"GET /places HTTP/1.1\" 200 -\n",
      "127.0.0.1 - - [03/Aug/2024 23:45:47] \"GET /places HTTP/1.1\" 200 -\n",
      "127.0.0.1 - - [03/Aug/2024 23:45:49] \"GET /places HTTP/1.1\" 200 -\n",
      "127.0.0.1 - - [03/Aug/2024 23:45:49] \"GET /places HTTP/1.1\" 200 -\n",
      "127.0.0.1 - - [03/Aug/2024 23:47:54] \"GET /places HTTP/1.1\" 200 -\n"
     ]
    }
   ],
   "source": [
    "# app.py\n",
    "\n",
    "from flask import Flask, jsonify\n",
    "import csv\n",
    "\n",
    "app = Flask(__name__)\n",
    "\n",
    "def get_places():\n",
    "    places=[]\n",
    "    file_path = '../data/places.csv'\n",
    "    with open(file_path, newline='', encoding='utf-8-sig') as csvfile:\n",
    "        reader = csv.DictReader(csvfile)\n",
    "        for row in reader:\n",
    "            places.append({\n",
    "                'town': row['town'],\n",
    "                'state': row['state'],\n",
    "                'latitude': float(row['latitude']),\n",
    "                'longitude': float(row['longitude'])\n",
    "            })\n",
    "    return places\n",
    "\n",
    "@app.route('/places')\n",
    "def places():\n",
    "    data = get_places()\n",
    "    return jsonify(data)\n",
    "\n",
    "if __name__ == '__main__':\n",
    "    app.run(debug=False, use_reloader=False)"
   ]
  },
  {
   "cell_type": "code",
   "execution_count": 18,
   "id": "25f0557a",
   "metadata": {},
   "outputs": [
    {
     "ename": "FileNotFoundError",
     "evalue": "[Errno 2] No such file or directory: 'places.csv'",
     "output_type": "error",
     "traceback": [
      "\u001b[1;31m---------------------------------------------------------------------------\u001b[0m",
      "\u001b[1;31mFileNotFoundError\u001b[0m                         Traceback (most recent call last)",
      "\u001b[1;32m~\\AppData\\Local\\Temp/ipykernel_23932/4074035851.py\u001b[0m in \u001b[0;36m<module>\u001b[1;34m\u001b[0m\n\u001b[1;32m----> 1\u001b[1;33m \u001b[1;32mwith\u001b[0m \u001b[0mopen\u001b[0m\u001b[1;33m(\u001b[0m\u001b[1;34m'places.csv'\u001b[0m\u001b[1;33m,\u001b[0m \u001b[0mnewline\u001b[0m\u001b[1;33m=\u001b[0m\u001b[1;34m''\u001b[0m\u001b[1;33m)\u001b[0m \u001b[1;32mas\u001b[0m \u001b[0mcsvfile\u001b[0m\u001b[1;33m:\u001b[0m\u001b[1;33m\u001b[0m\u001b[1;33m\u001b[0m\u001b[0m\n\u001b[0m\u001b[0;32m      2\u001b[0m         \u001b[0mreader\u001b[0m \u001b[1;33m=\u001b[0m \u001b[0mcsv\u001b[0m\u001b[1;33m.\u001b[0m\u001b[0mDictReader\u001b[0m\u001b[1;33m(\u001b[0m\u001b[0mcsvfile\u001b[0m\u001b[1;33m)\u001b[0m\u001b[1;33m\u001b[0m\u001b[1;33m\u001b[0m\u001b[0m\n",
      "\u001b[1;31mFileNotFoundError\u001b[0m: [Errno 2] No such file or directory: 'places.csv'"
     ]
    }
   ],
   "source": [
    "with open('places.csv', newline='') as csvfile:\n",
    "        reader = csv.DictReader(csvfile)"
   ]
  },
  {
   "cell_type": "code",
   "execution_count": 9,
   "id": "d08a6582",
   "metadata": {},
   "outputs": [
    {
     "name": "stdout",
     "output_type": "stream",
     "text": [
      "{'town': 'Kolkata', 'state': 'West Bengal', 'latitude': '22.57339112', 'longitude': '88.35007427'}\n",
      "{'town': 'Bengaluru', 'state': 'Karnataka', 'latitude': '12.98457014', 'longitude': '77.59375383'}\n"
     ]
    }
   ],
   "source": [
    "places = []\n",
    "file_path = '../data/places.csv'\n",
    "with open(file_path, newline='', encoding='utf-8-sig') as csvfile:\n",
    "        reader = csv.DictReader(csvfile)\n",
    "        for row in reader:\n",
    "            print(row)\n",
    "            places.append({\n",
    "                'town': row['town'],\n",
    "                'state': row['state'],\n",
    "                'latitude': float(row['latitude']),\n",
    "                'longitude': float(row['longitude'])\n",
    "            })"
   ]
  },
  {
   "cell_type": "code",
   "execution_count": 1,
   "id": "7bfe5adb",
   "metadata": {},
   "outputs": [
    {
     "name": "stdout",
     "output_type": "stream",
     "text": [
      " Volume in drive C is OS\n",
      " Volume Serial Number is F6A5-FD0E\n",
      "\n",
      " Directory of C:\\Users\\rohit\\Documents\\Project\\Visited-Places\\backend\n",
      "\n",
      "03-08-2024  23:25    <DIR>          .\n",
      "03-08-2024  23:06    <DIR>          ..\n",
      "03-08-2024  23:05    <DIR>          .ipynb_checkpoints\n",
      "03-08-2024  23:08             8,507 places.csv.xlsx\n",
      "03-08-2024  23:25             5,092 Untitled.ipynb\n",
      "               2 File(s)         13,599 bytes\n",
      "               3 Dir(s)  40,718,680,064 bytes free\n"
     ]
    }
   ],
   "source": [
    "ls"
   ]
  },
  {
   "cell_type": "code",
   "execution_count": null,
   "id": "12eb9be0",
   "metadata": {},
   "outputs": [],
   "source": []
  }
 ],
 "metadata": {
  "kernelspec": {
   "display_name": "Python 3 (ipykernel)",
   "language": "python",
   "name": "python3"
  },
  "language_info": {
   "codemirror_mode": {
    "name": "ipython",
    "version": 3
   },
   "file_extension": ".py",
   "mimetype": "text/x-python",
   "name": "python",
   "nbconvert_exporter": "python",
   "pygments_lexer": "ipython3",
   "version": "3.9.7"
  }
 },
 "nbformat": 4,
 "nbformat_minor": 5
}
